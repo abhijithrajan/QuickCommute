{
 "cells": [
  {
   "cell_type": "code",
   "execution_count": 1,
   "metadata": {},
   "outputs": [
    {
     "data": {
      "text/plain": [
       "True"
      ]
     },
     "execution_count": 1,
     "metadata": {},
     "output_type": "execute_result"
    }
   ],
   "source": [
    "import json\n",
    "import os\n",
    "from dotenv import load_dotenv, find_dotenv\n",
    "import requests\n",
    "import numpy as np\n",
    "from bokeh.io import output_file, show, output_notebook, export_png\n",
    "from bokeh.models import ColumnDataSource, GMapOptions, LabelSet, Label\n",
    "from bokeh.plotting import gmap\n",
    "from collections import defaultdict\n",
    "from pathlib import Path\n",
    "\n",
    "#env_path = Path('.') / '.env'\n",
    "#load_dotenv(dotenv_path=env_path, override=True)\n",
    "load_dotenv(find_dotenv())"
   ]
  },
  {
   "cell_type": "markdown",
   "metadata": {},
   "source": [
    "### Call Lyft Developer API to pull ride cost information\n",
    "\n",
    "For the moment only the basic Lyft ride type is being selected. Future updates can/should include other alternatives to provide more options."
   ]
  },
  {
   "cell_type": "code",
   "execution_count": 2,
   "metadata": {},
   "outputs": [],
   "source": [
    "url = 'https://api.lyft.com/oauth/token'\n",
    "client_id = os.environ.get('Lyft_Client_ID')\n",
    "client_secret = os.environ.get('Lyft_Client_Secret') \n",
    "\n",
    "# define request parameters\n",
    "payload = {\"Content-Type\": \"application/json\",\n",
    "           \"grant_type\": \"client_credentials\",\n",
    "           \"scope\": \"public\"}\n",
    "# request data\n",
    "res = requests.post(url,\n",
    "                    data = payload,\n",
    "                    auth = (client_id, client_secret))\n",
    "# extract the token from the response\n",
    "token = res.json()['access_token']"
   ]
  },
  {
   "cell_type": "code",
   "execution_count": 3,
   "metadata": {
    "collapsed": true
   },
   "outputs": [],
   "source": [
    "def request_lyft(org_lat, org_long, end_lat, end_long, token, rtype='lyft'):\n",
    "    query_url = 'https://api.lyft.com/v1/cost?'\n",
    "    header = {\"Authorization\": \"Bearer {}\".format(token)}\n",
    "    query = query_url + 'start_lat={:.4f}&start_lng={:.4f}&end_lat={:.4f}&end_lng={:.4f}&ride_type={}'\\\n",
    "            .format(org_lat,org_long,end_lat,end_long,rtype)\n",
    "    r = requests.get(query, headers=header)\n",
    "    return r"
   ]
  },
  {
   "cell_type": "markdown",
   "metadata": {},
   "source": [
    "### Transit Fare Information\n",
    "Note: Using a dictionary with minimal information needed to get stuff working for now. In the future should be able to retrieve fare information via the MTA real-time feed --> http://datamine.mta.info/. "
   ]
  },
  {
   "cell_type": "code",
   "execution_count": 4,
   "metadata": {
    "collapsed": true
   },
   "outputs": [],
   "source": [
    "fare_info = {'PATH':2.75, 'SUBWAY':2.75, 'BUS': 2.75}"
   ]
  },
  {
   "cell_type": "markdown",
   "metadata": {},
   "source": [
    "### Using Google Maps API - retrieve route information. \n",
    "\n",
    "Transit fare information is not available for all rides. Google Maps will only return fare information if all 'TRANSIT' routes have fares. This is something that will need to be resolved for the full implementation. Currently, only Lyft ride cost data has been included. "
   ]
  },
  {
   "cell_type": "code",
   "execution_count": 5,
   "metadata": {},
   "outputs": [
    {
     "name": "stdout",
     "output_type": "stream",
     "text": [
      "What is the maximum you would like to spend on this commute?: 30\n"
     ]
    }
   ],
   "source": [
    "end_point = 'https://maps.googleapis.com/maps/api/directions/json?'\n",
    "goog_api_key = os.environ.get('GOOG_API_KEY')\n",
    "#origin = input(\"Start Location: \").replace(\" \",\"+\")\n",
    "#dest = input(\"End Location: \").replace(\" \",\"+\")\n",
    "#For test purpose\n",
    "origin = \"Journal Square, NJ\".replace(\" \",\"+\")\n",
    "dest = \"Laguardia, NY\".replace(\" \",\"+\")\n",
    "try:\n",
    "    cost_cap = float(input(\"What is the maximum you would like to spend on this commute?: \"))\n",
    "except ValueError:\n",
    "    print(\"Not a number\")\n",
    "goog_query = end_point + \"origin={}&destination={}&mode=transit&key={}\".format(origin,dest, goog_api_key)\n",
    "r = requests.get(goog_query)"
   ]
  },
  {
   "cell_type": "code",
   "execution_count": 6,
   "metadata": {
    "collapsed": true
   },
   "outputs": [],
   "source": [
    "if r.json()['status'] == 'OK':\n",
    "    locator = r.json()\n",
    "else:\n",
    "    print(\"Something went wrong!\")"
   ]
  },
  {
   "cell_type": "code",
   "execution_count": 7,
   "metadata": {},
   "outputs": [
    {
     "name": "stdout",
     "output_type": "stream",
     "text": [
      "Walk to Journal Square\n",
      "Train towards 33rd Street\n",
      "Cost to travel to final destination by Lyft: $50.98\n",
      "Walk to 23 St\n",
      "Subway towards Jamaica - 179 St\n",
      "Cost to travel to final destination by Lyft: $41.54\n",
      "Walk to 74 St/Roosevelt Av Station\n",
      "Bus towards +LaGuardia Link Select Bus Service LaGuardia Airport Terminals D-C-B\n",
      "Cost to travel to final destination by Lyft: $13.29\n"
     ]
    }
   ],
   "source": [
    "data = defaultdict(list)\n",
    "data_plot = defaultdict(list)\n",
    "fin_lat, fin_lng = locator['routes'][0]['legs'][0]['end_location']['lat'], locator['routes'][0]['legs'][0]['end_location']['lng']\n",
    "for leg in locator['routes'][0]['legs']:\n",
    "    for steps in leg['steps']: \n",
    "        start_lat, start_lng = steps['start_location']['lat'], steps['start_location']['lng']\n",
    "        stop_lat, stop_lng = steps['end_location']['lat'], steps['end_location']['lng']\n",
    "        lyft_r_fin = request_lyft(start_lat, start_lng, fin_lat, fin_lng, token, rtype='lyft').json()\n",
    "        lyft_r_step = request_lyft(start_lat, start_lng, stop_lat, stop_lng, token, rtype='lyft').json()\n",
    "        print(steps['html_instructions'])\n",
    "        if 'TRANSIT' in steps['travel_mode']: \n",
    "            data['transit_step_dur'].append(steps['duration']['value']/60)\n",
    "            data['lyft_step_dur'].append(lyft_r_step['cost_estimates'][0]['estimated_duration_seconds']/60)\n",
    "            data['lyft_fin_dur'].append(lyft_r_fin['cost_estimates'][0]['estimated_duration_seconds']/60)\n",
    "\n",
    "            trans_det = steps['transit_details']['line']\n",
    "            trans_short_name = trans_det['short_name']\n",
    "            trans_name = trans_det['vehicle']['name']\n",
    "            trans_type = trans_det['vehicle']['type']\n",
    "            \n",
    "            if 'PATH' in [trans_short_name,trans_name,trans_type]: data['transit_fare'].append(fare_info['PATH'])\n",
    "            elif 'SUBWAY' in [trans_short_name,trans_name,trans_type]: data['transit_fare'].append(fare_info['SUBWAY'])\n",
    "            elif 'BUS' in [trans_short_name,trans_name,trans_type]: data['transit_fare'].append(fare_info['BUS'])\n",
    "            \n",
    "            data_plot['lat'].append(start_lat)\n",
    "            data_plot['lon'].append(start_lng)\n",
    "            cost_fin = lyft_r_fin['cost_estimates'][0]['estimated_cost_cents_max']/100\n",
    "            data['Lyft_dest_fare'].append(cost_fin)\n",
    "            cost_step = lyft_r_step['cost_estimates'][0]['estimated_cost_cents_max']/100\n",
    "            data['Lyft_step_fare'].append(cost_step)\n",
    "\n",
    "            data_plot['cost_statement'].append(\"Lyft cost = {}\".format(cost_fin))\n",
    "            print (\"Cost to travel to final destination by Lyft: ${}\".format(cost_fin))\n",
    "data_plot['lat'].append(steps['end_location']['lat'])\n",
    "data_plot['lon'].append(steps['end_location']['lng'])\n",
    "data_plot['cost_statement'].append(\"Lyft cost = {}\".format(0))"
   ]
  },
  {
   "cell_type": "markdown",
   "metadata": {},
   "source": [
    "### Plotting route information using Bokeh interface to Google Maps"
   ]
  },
  {
   "cell_type": "code",
   "execution_count": null,
   "metadata": {},
   "outputs": [],
   "source": [
    "output_notebook() \n",
    "#output_file(\"Lyft_Cost.html\") \n",
    "\n",
    "map_lat_ne, map_lng_ne = locator['routes'][0]['bounds']['northeast']['lat'], locator['routes'][0]['bounds']['northeast']['lng']\n",
    "map_lat_sw, map_lng_sw = locator['routes'][0]['bounds']['southwest']['lat'], locator['routes'][0]['bounds']['southwest']['lng']\n",
    "map_lat = np.mean([map_lat_ne,map_lat_sw])\n",
    "map_lng = np.mean([map_lng_ne,map_lng_sw])\n",
    "\n",
    "map_options = GMapOptions(lat=map_lat, lng=map_lng, map_type=\"roadmap\", zoom=11)\n",
    "p = gmap(goog_api_key, map_options)\n",
    "\n",
    "source = ColumnDataSource(\n",
    "    data=dict(data_plot))\n",
    "\n",
    "p.line(x=\"lon\", y=\"lat\", line_width=5, source=source)\n",
    "p.circle(x=\"lon\", y=\"lat\", size=15, fill_color=\"blue\", fill_alpha=0.8, source=source)\n",
    "\n",
    "labels = LabelSet(x='lon', y='lat', text='cost_statement', level='glyph',\n",
    "              x_offset=0, y_offset=-20, source=source, render_mode='canvas',\n",
    "                 background_fill_color='white', background_fill_alpha=1.0)\n",
    "\n",
    "p.add_layout(labels)\n",
    "show(p)\n",
    "export_png(p, filename=\"LyftCost.png\")"
   ]
  },
  {
   "cell_type": "code",
   "execution_count": null,
   "metadata": {
    "collapsed": true
   },
   "outputs": [],
   "source": [
    "data"
   ]
  },
  {
   "cell_type": "markdown",
   "metadata": {},
   "source": [
    "## Computing Traversal Graph to enable mapping of routes"
   ]
  },
  {
   "cell_type": "code",
   "execution_count": null,
   "metadata": {
    "collapsed": true
   },
   "outputs": [],
   "source": [
    "a = []\n",
    "b = []\n",
    "for leg in locator['routes'][0]['legs']:\n",
    "    for cnt, steps in enumerate(leg['steps']): \n",
    "        if 'TRANSIT' in steps['travel_mode']: \n",
    "            a.append(cnt)\n",
    "            a.append(cnt+100)\n",
    "            b.append(cnt+100)\n",
    "        else: a.append(cnt)\n",
    "a.append(cnt+1)\n",
    "new_graph = dict.fromkeys(a)"
   ]
  },
  {
   "cell_type": "code",
   "execution_count": null,
   "metadata": {
    "collapsed": true
   },
   "outputs": [],
   "source": [
    "fin_lat, fin_lng = locator['routes'][0]['legs'][0]['end_location']['lat'], locator['routes'][0]['legs'][0]['end_location']['lng']\n",
    "lyft_cntr = 0\n",
    "\n",
    "for leg in locator['routes'][0]['legs']:\n",
    "    for cnt, steps in enumerate(leg['steps']): \n",
    "        start_lat, start_lng = steps['start_location']['lat'], steps['start_location']['lng']\n",
    "        stop_lat, stop_lng = steps['end_location']['lat'], steps['end_location']['lng']\n",
    "        lyft_r_fin = request_lyft(start_lat, start_lng, fin_lat, fin_lng, token, rtype='lyft').json()\n",
    "        cost_fin = lyft_r_fin['cost_estimates'][0]['estimated_cost_cents_max']/100.\n",
    "        dur_fin = lyft_r_fin['cost_estimates'][0]['estimated_duration_seconds']/60.\n",
    "\n",
    "        dist = steps['distance']['value']/1000\n",
    "        if dist < 1: short = True\n",
    "        else: short = False\n",
    "\n",
    "        if new_graph[cnt] is None: \n",
    "            new_graph[cnt] = [[a[-1],dur_fin,cost_fin]]\n",
    "        else: \n",
    "            new_graph[cnt].append([a[-1],dur_fin,cost_fin])\n",
    "        \n",
    "        if cnt < a[-1]-1:\n",
    "            if cnt in new_graph.keys() and 'WALKING' in steps['travel_mode']:\n",
    "                new_graph[cnt] = [cnt+1,steps['duration']['value']/60, 0.]\n",
    "\n",
    "            print(cnt, steps['html_instructions'])\n",
    "            if cnt in new_graph.keys() and 'TRANSIT' in steps['travel_mode']:\n",
    "                trans_det = steps['transit_details']['line']\n",
    "                trans_short_name = trans_det['short_name']\n",
    "                trans_name = trans_det['vehicle']['name']\n",
    "                trans_type = trans_det['vehicle']['type']\n",
    "\n",
    "                if 'PATH' in [trans_short_name,trans_name,trans_type]: cost = fare_info['PATH']\n",
    "                elif 'SUBWAY' in [trans_short_name,trans_name,trans_type]: cost = fare_info['SUBWAY']\n",
    "                elif 'BUS' in [trans_short_name,trans_name,trans_type]: cost = fare_info['BUS']\n",
    "\n",
    "                if new_graph[cnt] is None: \n",
    "                    new_graph[cnt] = [[cnt+1,steps['duration']['value']/60,0.,cost]]\n",
    "                else: \n",
    "                    new_graph[cnt].append([cnt+1,steps['duration']['value']/60,0.,cost])\n",
    "\n",
    "                if not short:\n",
    "                    lyft_r_step = request_lyft(start_lat, start_lng, stop_lat, stop_lng, token, rtype='lyft').json()\n",
    "                    cost_step = lyft_r_step['cost_estimates'][0]['estimated_cost_cents_max']/100.\n",
    "                    dur_step = lyft_r_step['cost_estimates'][0]['estimated_duration_seconds']/60.\n",
    "                    if new_graph[b[lyft_cntr]] is None: \n",
    "                        new_graph[b[lyft_cntr]] = [[b[lyft_cntr+1],dur_step,cost_step]]\n",
    "                    else: \n",
    "                        new_graph[b[lyft_cntr]].append([b[lyft_cntr+1],dur_step,cost_step])\n",
    "                    lyft_cntr += 1\n",
    "\n",
    "                if new_graph[b[lyft_cntr]] is None and lyft_cntr != len(b): \n",
    "                    new_graph[b[lyft_cntr]] = [[a[-1],dur_fin,cost_fin]]\n",
    "                elif new_graph[b[lyft_cntr]] is not None and lyft_cntr != len(b):\n",
    "                    new_graph[b[lyft_cntr]].append([a[-1],dur_fin,cost_fin])\n"
   ]
  },
  {
   "cell_type": "code",
   "execution_count": null,
   "metadata": {
    "collapsed": true
   },
   "outputs": [],
   "source": [
    "new_graph"
   ]
  },
  {
   "cell_type": "markdown",
   "metadata": {},
   "source": [
    "### Generate all paths given above graph."
   ]
  },
  {
   "cell_type": "code",
   "execution_count": null,
   "metadata": {
    "collapsed": true
   },
   "outputs": [],
   "source": [
    "def paths(graph, v):\n",
    "    \"\"\"Generate the maximal cycle-free paths in graph starting at v.\n",
    "    graph must be a mapping from vertices to collections of\n",
    "    neighbouring vertices.\n",
    "    \"\"\"\n",
    "    path = [v]                  # path traversed so far\n",
    "    seen = {v}                  # set of vertices in path\n",
    "    def search():\n",
    "        dead_end = True\n",
    "        for neighbour in graph[path[-1]]:\n",
    "            if neighbour not in seen:\n",
    "                dead_end = False\n",
    "                seen.add(neighbour)\n",
    "                path.append(neighbour)\n",
    "                yield from search()\n",
    "                path.pop()\n",
    "                seen.remove(neighbour)\n",
    "        if dead_end:\n",
    "            yield list(path)\n",
    "    yield from search()"
   ]
  },
  {
   "cell_type": "markdown",
   "metadata": {},
   "source": [
    "Need to modify code to accept list of lists."
   ]
  },
  {
   "cell_type": "code",
   "execution_count": null,
   "metadata": {
    "collapsed": true
   },
   "outputs": [],
   "source": [
    "g = {0: [1, 101],\n",
    " 1: [6, 2],\n",
    " 2: [3],\n",
    " 3: [6, 4],\n",
    " 4: [5],\n",
    " 5: [6],\n",
    " 6: [],\n",
    " 101: [6,103],\n",
    " 103: [6, 105],\n",
    " 105: [6]}"
   ]
  },
  {
   "cell_type": "code",
   "execution_count": null,
   "metadata": {
    "collapsed": true
   },
   "outputs": [],
   "source": [
    "sorted(paths(g, 0))"
   ]
  },
  {
   "cell_type": "code",
   "execution_count": null,
   "metadata": {
    "collapsed": true
   },
   "outputs": [],
   "source": []
  }
 ],
 "metadata": {
  "kernelspec": {
   "display_name": "Python 3",
   "language": "python",
   "name": "python3"
  },
  "language_info": {
   "codemirror_mode": {
    "name": "ipython",
    "version": 3
   },
   "file_extension": ".py",
   "mimetype": "text/x-python",
   "name": "python",
   "nbconvert_exporter": "python",
   "pygments_lexer": "ipython3",
   "version": "3.6.1"
  }
 },
 "nbformat": 4,
 "nbformat_minor": 2
}
