{
 "cells": [
  {
   "cell_type": "markdown",
   "metadata": {},
   "source": [
    "# Capstone project - Quick Commute\n",
    "\n",
    "Written by\n",
    "Abhijith Rajan\n",
    "07/12/2018"
   ]
  },
  {
   "cell_type": "code",
   "execution_count": 1,
   "metadata": {
    "collapsed": true
   },
   "outputs": [],
   "source": [
    "from flask import Flask, render_template, request, redirect\n",
    "\n",
    "from dotenv import load_dotenv, find_dotenv\n",
    "load_dotenv(find_dotenv())\n",
    "\n",
    "import os\n",
    "import re\n",
    "import requests\n",
    "import pandas as pd\n",
    "import numpy as np\n",
    "import json\n",
    "from collections import defaultdict\n",
    "\n",
    "from geopy import distance\n",
    "import networkx as nx\n",
    "import folium\n",
    "\n",
    "from bokeh.plotting import figure\n",
    "from bokeh.models import ColumnDataSource, HoverTool, GMapOptions\n",
    "from bokeh.plotting import gmap\n",
    "from bokeh.embed import components"
   ]
  },
  {
   "attachments": {},
   "cell_type": "markdown",
   "metadata": {},
   "source": [
    "### Helping people travel more efficiently!\n",
    "\n",
    "The goal of the app is to provide the most efficient route to get to your destination by combining different transit options, including public transit and cab services like Lyft. \n",
    "\n",
    "I want to provide personalized ride recommendation. To do this, I am building a predictive model using census data, in combination with geolocation, weather and time of day information to understand how individuals spread across different incomes and ages value travel time savings."
   ]
  },
  {
   "cell_type": "markdown",
   "metadata": {},
   "source": [
    "<img src=\"img/front.png\">"
   ]
  },
  {
   "cell_type": "markdown",
   "metadata": {},
   "source": [
    "The app currently requires the user to input their annual income. Still working on the income predictor. "
   ]
  },
  {
   "cell_type": "markdown",
   "metadata": {},
   "source": [
    "<img src=\"img/start1.png\">"
   ]
  },
  {
   "cell_type": "markdown",
   "metadata": {},
   "source": [
    "Running the app via a Flask interface. "
   ]
  },
  {
   "cell_type": "code",
   "execution_count": null,
   "metadata": {
    "collapsed": true
   },
   "outputs": [],
   "source": [
    "app = Flask(__name__, static_url_path = \"\", static_folder = \"static\")\n",
    "\n",
    "#===========================================================================================\n",
    "@app.route('/', methods=['GET','POST'])\n",
    "def index():\n",
    "    goog_api_key = os.environ.get('GOOG_API_KEY')\n",
    "\n",
    "    if request.method == 'GET':\n",
    "        # Start out the \n",
    "        def_map_lat, def_map_lng = 40.745, -73.97\n",
    "        map_osm = folium.Map(location=[def_map_lat, def_map_lng])\n",
    "        map_osm.save('templates/map_init.html')\n",
    "\n",
    "        return render_template('index.html')\n",
    "\n",
    "    elif request.method == 'POST':\n",
    "        addr_pattern = \"[\\w\\s\\-\\,\\#\\.\\+]+\"\n",
    "\n",
    "        origin = request.form['origin']\n",
    "        if not re.match(addr_pattern, origin):\n",
    "            return render_template(\"error.html\", errors=\"re-enter origin address\")\n",
    "\n",
    "        destination = request.form['dest']\n",
    "        if not re.match(addr_pattern, destination):\n",
    "            return render_template(\"error.html\", errors=\"re-enter destination address\")\n",
    "\n",
    "        try:\n",
    "            income = float(request.form['income'])\n",
    "        except ValueError:\n",
    "            return render_template(\"error.html\", errors=\"re-enter income. Only numbers allowed.\")\n",
    "\n",
    "        goog_loc = google_init(origin, destination, goog_api_key)\n",
    "        lyft_token = lyft_init()\n",
    "\n",
    "        graph, shortest = get_best_route(goog_loc, lyft_token, income)\n",
    "\n",
    "        make_plot(shortest, graph)\n",
    "\n",
    "        instr_text = [\"Ride option for income = $\" + str(int(income))]        \n",
    "        for cnt in range(len(shortest)-1):\n",
    "            instr_text.append( str(cnt) + \". \" + graph.get_edge_data(shortest[cnt],shortest[cnt+1])[0]['instructions'] )\n",
    "\n",
    "        return render_template('result.html', instr_text=instr_text)\n",
    "    \n",
    "#===========================================================================================\n",
    "@app.route('/get_map_init')\n",
    "def get_map_init():\n",
    "    return render_template('map_init.html')\n",
    "\n",
    "#===========================================================================================\n",
    "@app.route('/get_map_final')\n",
    "def get_map_final():\n",
    "    return render_template('map_final.html')"
   ]
  },
  {
   "cell_type": "markdown",
   "metadata": {},
   "source": [
    "<img src=\"img/start2.png\">"
   ]
  },
  {
   "cell_type": "markdown",
   "metadata": {},
   "source": [
    "Computing the best route, using weighting factors derived from a study by the [Victorial Transit Policy Institute](http://www.vtpi.org/quality.pdf). I have hardcoded the weights at the moment, however the weights will vary as function of income, weather, and delay time."
   ]
  },
  {
   "cell_type": "code",
   "execution_count": null,
   "metadata": {
    "collapsed": true
   },
   "outputs": [],
   "source": [
    "#===========================================================================================\n",
    "def get_best_route(locator, token, income_per_year):\n",
    "\n",
    "    # Assuming working 40 hours a week, \n",
    "    # and there are 52 working weeks in the year.\n",
    "    income_per_hour = income_per_year / 40 / 52 \n",
    "    income_per_min = income_per_hour / 60\n",
    "\n",
    "    # initiate multi-edge, directed Graph\n",
    "    G = nx.MultiDiGraph()\n",
    "    route = dict()\n",
    "\n",
    "    fare_info = {'PATH':2.75, 'SUBWAY':2.75, 'BUS': 2.75}\n",
    "\n",
    "    # Primary route with Lyft\n",
    "    start_node = 0\n",
    "    end_node = len(locator['routes'][0]['legs'][0]['steps'])\n",
    "\n",
    "    start_location = locator['routes'][0]['legs'][0]['start_location']\n",
    "    end_location = locator['routes'][0]['legs'][0]['end_location']\n",
    "\n",
    "    start_lat, start_lng = start_location['lat'], start_location['lng']\n",
    "    stop_lat, stop_lng = end_location['lat'], end_location['lng']\n",
    "\n",
    "    lyft_r_eta = lyft_eta(start_lat, start_lng, token, rtype='lyft').json()\n",
    "    eta_step_0 = lyft_r_eta['eta_estimates'][0]['eta_seconds']/60.\n",
    "\n",
    "    lyft_r_step = lyft_request(start_lat, start_lng, stop_lat, stop_lng, token, rtype='lyft').json()\n",
    "    dur_step = lyft_r_step['cost_estimates'][0]['estimated_duration_seconds']/60.\n",
    "\n",
    "    price_step = lyft_r_step['cost_estimates'][0]['estimated_cost_cents_max']/100.\n",
    "    price_dur = dur_step * income_per_min\n",
    "    price_eta = eta_step_0 * income_per_min\n",
    "\n",
    "    instruction = 'Take Lyft from origin to destination'\n",
    "    G.add_edge(start_node, end_node,weight=price_step + price_dur + price_eta, \n",
    "                               attr_dict={'cost':price_step, 'duration':dur_step, \n",
    "                                          'mode':'lyft', 'instructions':instruction})\n",
    "    G.node[start_node] = {'lat':start_lat, 'lng':start_lng}\n",
    "    G.node[end_node] = {'lat':stop_lat, 'lng':stop_lng}\n",
    "\n",
    "\n",
    "    # Selecting 'nodes' or 'legs' according to Google API recommendations. \n",
    "    # Moving from one leg to the next constitutes one edge in the graph.\n",
    "    for leg in locator['routes'][0]['legs']:\n",
    "        tot_dist = leg['distance']['value']/1000\n",
    "        for cnt, steps in enumerate(leg['steps']):\n",
    "            print(cnt, steps['html_instructions'])\n",
    "\n",
    "            # Starting latitude and longitude of the node\n",
    "            step_lat, step_lng = steps['start_location']['lat'], steps['start_location']['lng']\n",
    "\n",
    "            if cnt in G.nodes():\n",
    "                G.node[cnt] = {'lat':step_lat, 'lng':step_lng}\n",
    "            else:\n",
    "                G.add_node(cnt, {'lat':step_lat, 'lng':step_lng})\n",
    "\n",
    "            if cnt != 0 and not 'WALKING' in leg['steps'][cnt-1]['travel_mode']:\n",
    "                mode = 'lyft'\n",
    "                lyft_r_step = lyft_request(start_lat, start_lng, step_lat, step_lng, token, rtype='lyft').json()\n",
    "\n",
    "                dur_step = lyft_r_step['cost_estimates'][0]['estimated_duration_seconds']/60.\n",
    "                price_step = lyft_r_step['cost_estimates'][0]['estimated_cost_cents_max']/100.\n",
    "                \n",
    "                price_dur = dur_step * income_per_min\n",
    "                price_eta = eta_step_0 * income_per_min\n",
    "\n",
    "                if 'WALKING' in steps['travel_mode']:\n",
    "                    step_name = steps['html_instructions'].strip(\"Walk to\")\n",
    "                else:\n",
    "                    step_name = steps['transit_details']['arrival_stop']['name']\n",
    "\n",
    "                instruction = 'Take Lyft from origin to ' + step_name\n",
    "                G.add_edge(start_node, cnt, weight=price_step + price_dur + price_eta, \n",
    "                               attr_dict={'cost':price_step, 'duration':dur_step, \n",
    "                                          'mode':mode, 'instructions':instruction})\n",
    "\n",
    "                lyft_r_eta = lyft_eta(step_lat, step_lng, token, rtype='lyft').json()\n",
    "                eta_step = lyft_r_eta['eta_estimates'][0]['eta_seconds']/60.\n",
    "\n",
    "                lyft_r_step = lyft_request(step_lat, step_lng, stop_lat, stop_lng, token, rtype='lyft').json()\n",
    "                dur_step = lyft_r_step['cost_estimates'][0]['estimated_duration_seconds']/60.\n",
    "                price_step = lyft_r_step['cost_estimates'][0]['estimated_cost_cents_max']/100.\n",
    "                \n",
    "                price_dur = dur_step * income_per_min\n",
    "                price_eta = eta_step * income_per_min\n",
    "\n",
    "\n",
    "                instruction = 'Take Lyft from ' + step_name + \" to destination\"\n",
    "                G.add_edge(cnt, end_node, weight=price_step + price_dur + price_eta, \n",
    "                               attr_dict={'cost':price_step, 'duration':dur_step, \n",
    "                                          'mode':mode, 'instructions':instruction})\n",
    "                            \n",
    "                \n",
    "\n",
    "            if 'WALKING' in steps['travel_mode']:\n",
    "                mode = 'walking'\n",
    "\n",
    "                price_step = 0.\n",
    "                dur_step = steps['duration']['value']/60\n",
    "                price_dur = dur_step * income_per_min * 1.5\n",
    "                price_eta = 5 * income_per_min * 1.5\n",
    "                \n",
    "                G.add_edge(cnt, cnt+1, weight=price_step + price_dur + price_eta, \n",
    "                               attr_dict={'cost':price_step, 'duration':dur_step, \n",
    "                                          'mode':mode, 'instructions':steps['html_instructions']})\n",
    "\n",
    "                \n",
    "            if 'TRANSIT' in steps['travel_mode']:\n",
    "                mode = 'transit'\n",
    "\n",
    "                trans_det = steps['transit_details']['line']\n",
    "                trans_short_name = trans_det['short_name']\n",
    "                trans_name = trans_det['vehicle']['name']\n",
    "                trans_type = trans_det['vehicle']['type']\n",
    "\n",
    "                if 'PATH' in [trans_short_name,trans_name,trans_type]: price_step = fare_info['PATH']\n",
    "                elif 'SUBWAY' in [trans_short_name,trans_name,trans_type]: price_step = fare_info['SUBWAY']\n",
    "                elif 'BUS' in [trans_short_name,trans_name,trans_type]: price_step = fare_info['BUS']\n",
    "\n",
    "                dur_step = steps['duration']['value']/60            \n",
    "                price_dur = dur_step * income_per_min\n",
    "                price_eta = 5 * income_per_min * 1.5\n",
    "                \n",
    "                G.add_edge(cnt, cnt+1, weight=price_step + price_dur + price_eta, \n",
    "                               attr_dict={'cost':price_step, 'duration':dur_step, \n",
    "                                          'mode':mode, 'instructions':steps['html_instructions']})\n",
    "\n",
    "    shortest = nx.dijkstra_path(G, source=start_node,target=end_node, weight='weight')\n",
    "    print(shortest)\n",
    "\n",
    "    return G, shortest"
   ]
  },
  {
   "cell_type": "markdown",
   "metadata": {},
   "source": [
    "Plotting code"
   ]
  },
  {
   "cell_type": "code",
   "execution_count": null,
   "metadata": {
    "collapsed": true
   },
   "outputs": [],
   "source": [
    "def make_plot(short, G):\n",
    "\n",
    "    lats = nx.get_node_attributes(G,'lat')\n",
    "    longs = nx.get_node_attributes(G,'lng')\n",
    "\n",
    "    points = []\n",
    "    for node in short:\n",
    "        points.append(tuple([lats[node], longs[node]]))\n",
    "    ave_lat = sum(p[0] for p in points)/len(points)\n",
    "    ave_lon = sum(p[1] for p in points)/len(points)\n",
    "\n",
    "    my_map = folium.Map(location=[ave_lat,ave_lon], zoom_start=11)\n",
    "    folium.Marker([lats[short[0]], longs[short[0]]]).add_to(my_map)\n",
    "    folium.Marker([lats[short[-1]], longs[short[-1]]]).add_to(my_map)\n",
    "\n",
    "    #Add lines\n",
    "    for point in points:\n",
    "        folium.RegularPolygonMarker(point,\n",
    "            fill_color='#132b5e',\n",
    "            number_of_sides=10,\n",
    "            radius=5).add_to(my_map)\n",
    "    folium.PolyLine(points, color=\"black\", weight=5, opacity=1).add_to(my_map)\n",
    "    my_map.save('templates/map_final.html')\n",
    "\n",
    "    return "
   ]
  },
  {
   "cell_type": "markdown",
   "metadata": {},
   "source": [
    "<img src=\"img/result.png\">"
   ]
  },
  {
   "cell_type": "markdown",
   "metadata": {},
   "source": [
    "Helper functions"
   ]
  },
  {
   "cell_type": "code",
   "execution_count": null,
   "metadata": {
    "collapsed": true
   },
   "outputs": [],
   "source": [
    "#===========================================================================================\n",
    "def google_init(origin,dest, api_key):\n",
    "    url = 'https://maps.googleapis.com/maps/api/directions/json'\n",
    "    pars = {'origin':origin,'destination':dest,'mode':'transit','key':api_key}\n",
    "    r = requests.get(url, params=pars)\n",
    "\n",
    "    if r.json()['status'] == 'OK':\n",
    "        locator = r.json()\n",
    "    else:\n",
    "        return render_template(\"error.html\", \\\n",
    "            errors=\"check the address and try again.\")\n",
    "\n",
    "    return locator\n",
    "\n",
    "#===========================================================================================\n",
    "def lyft_init():\n",
    "    url = 'https://api.lyft.com/oauth/token'\n",
    "    client_id = os.environ.get('Lyft_Client_ID')\n",
    "    client_secret = os.environ.get('Lyft_Client_Secret') \n",
    "\n",
    "    # define request parameters\n",
    "    payload = {\"Content-Type\": \"application/json\",\n",
    "               \"grant_type\": \"client_credentials\",\n",
    "               \"scope\": \"public\"}\n",
    "\n",
    "    # request data\n",
    "    res = requests.post(url,\n",
    "                        data = payload,\n",
    "                        auth = (client_id, client_secret))\n",
    "\n",
    "    # extract the token from the response\n",
    "    token = res.json()['access_token']\n",
    "\n",
    "    return token\n",
    "\n",
    "#===========================================================================================\n",
    "def lyft_request(org_lat, org_long, end_lat, end_long, token, rtype='lyft'):\n",
    "    query_url = 'https://api.lyft.com/v1/cost?'\n",
    "\n",
    "    header = {\"Authorization\": \"Bearer {}\".format(token)}\n",
    "\n",
    "    query = query_url + 'start_lat={:.4f}&start_lng={:.4f}&end_lat={:.4f}&end_lng={:.4f}&ride_type={}'\\\n",
    "            .format(org_lat,org_long,end_lat,end_long,rtype)\n",
    "\n",
    "    r = requests.get(query, headers=header)\n",
    "\n",
    "    return r\n",
    "\n",
    "#===========================================================================================\n",
    "def lyft_eta(org_lat, org_long, token, rtype='lyft'):\n",
    "    query_url = 'https://api.lyft.com/v1/eta'\n",
    "    header = {\"Authorization\": \"Bearer {}\".format(token)}\n",
    "    payload = {'lat':org_lat, 'lng':org_long, \n",
    "               'ride_type':rtype\n",
    "              }\n",
    "    r = requests.get(query_url, params=payload, headers=header)\n",
    "    return r"
   ]
  },
  {
   "cell_type": "markdown",
   "metadata": {},
   "source": [
    "### Tasks going forward\n",
    "\n",
    "- Since, we had a practice pitch event I was focused on producing a website that displayed initial results. \n",
    "- Moving forward, I am currently implementing a linear regression model to using census data broken up according to census tracts. The aim of this is to predict median income given geolocation, age and gender which I will ask the app users.\n",
    "- I have access to a weather API which will provide real-time information about the weather at each node. This will be included as an additional weight given a request. "
   ]
  },
  {
   "cell_type": "code",
   "execution_count": null,
   "metadata": {
    "collapsed": true
   },
   "outputs": [],
   "source": []
  }
 ],
 "metadata": {
  "kernelspec": {
   "display_name": "Python 3",
   "language": "python",
   "name": "python3"
  },
  "language_info": {
   "codemirror_mode": {
    "name": "ipython",
    "version": 3
   },
   "file_extension": ".py",
   "mimetype": "text/x-python",
   "name": "python",
   "nbconvert_exporter": "python",
   "pygments_lexer": "ipython3",
   "version": "3.6.1"
  }
 },
 "nbformat": 4,
 "nbformat_minor": 2
}
